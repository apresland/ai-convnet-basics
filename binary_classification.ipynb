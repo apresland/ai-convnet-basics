{
  "nbformat": 4,
  "nbformat_minor": 0,
  "metadata": {
    "colab": {
      "name": "binary_classification.ipynb",
      "private_outputs": true,
      "provenance": [],
      "toc_visible": true,
      "authorship_tag": "ABX9TyNkPtGlwjW4p/tLw87d/vlT",
      "include_colab_link": true
    },
    "kernelspec": {
      "name": "python3",
      "display_name": "Python 3"
    },
    "accelerator": "GPU"
  },
  "cells": [
    {
      "cell_type": "markdown",
      "metadata": {
        "id": "view-in-github",
        "colab_type": "text"
      },
      "source": [
        "<a href=\"https://colab.research.google.com/github/apresland/tensorflow-convnets/blob/binary-classification/binary_classification.ipynb\" target=\"_parent\"><img src=\"https://colab.research.google.com/assets/colab-badge.svg\" alt=\"Open In Colab\"/></a>"
      ]
    },
    {
      "cell_type": "markdown",
      "metadata": {
        "id": "vQMgu6oiL7SD"
      },
      "source": [
        "# Binary classification "
      ]
    },
    {
      "cell_type": "markdown",
      "metadata": {
        "id": "rDES3jLrlYuH"
      },
      "source": [
        "## Overview\n",
        "A standard demonstration of binary image classifiction that employs data augmentation and dropout layers to improve accuracy. Data augmentation is a technique that increases the diversity of your training data by applying random (but realistic) transformations such as image rotation."
      ]
    },
    {
      "cell_type": "markdown",
      "metadata": {
        "id": "7yEn6_qFF7o_"
      },
      "source": [
        "## Setup"
      ]
    },
    {
      "cell_type": "code",
      "metadata": {
        "id": "BiVe4l8UDz5L"
      },
      "source": [
        "import numpy as np\n",
        "import tensorflow as tf\n",
        "import tensorflow_datasets as tfds\n",
        "\n",
        "import os\n",
        "import zipfile"
      ],
      "execution_count": null,
      "outputs": []
    },
    {
      "cell_type": "markdown",
      "metadata": {
        "id": "VdHNXyyWIJVQ"
      },
      "source": [
        "### Download the dataset\n",
        "This tutorial uses the dogs_vs_cats dataset downloaded from TensorFlow Datasets\n",
        "for convenience."
      ]
    },
    {
      "cell_type": "code",
      "metadata": {
        "id": "_DcRrcrPIJq6"
      },
      "source": [
        "!wget --no-check-certificate \\\n",
        "    https://storage.googleapis.com/mledu-datasets/cats_and_dogs_filtered.zip \\\n",
        "    -O /tmp/data.zip\n",
        "\n",
        "zip_ref = zipfile.ZipFile('/tmp/cats_and_dogs_filtered.zip', 'r')\n",
        "zip_ref.extractall('/tmp')\n",
        "zip_ref.close()\n",
        "\n",
        "train_dir = '/tmp/cats_and_dogs_filtered/train'\n",
        "validation_dir = '/tmp/cats_and_dogs_filtered/validation'"
      ],
      "execution_count": null,
      "outputs": []
    },
    {
      "cell_type": "markdown",
      "metadata": {
        "id": "nr8_eXJ6AV8U"
      },
      "source": [
        "## Data pre-processing and data augmentation\n",
        "We will augment training examples with random transformations. This replicates real-world examples helping prevent overfitting and helping the model generalize better. This can be done simply in Keras via the keras.preprocessing.image.ImageDataGenerator class."
      ]
    },
    {
      "cell_type": "code",
      "metadata": {
        "id": "w3Nca4xDAWYR"
      },
      "source": [
        "train_datagen = tf.keras.preprocessing.image.ImageDataGenerator(\n",
        "      rescale=1./255,\n",
        "      rotation_range=40,\n",
        "      width_shift_range=0.2,\n",
        "      height_shift_range=0.2,\n",
        "      shear_range=0.2,\n",
        "      zoom_range=0.2,\n",
        "      horizontal_flip=True,\n",
        "      fill_mode='nearest')\n",
        "\n",
        "test_datagen = tf.keras.preprocessing.image.ImageDataGenerator(rescale=1./255)\n",
        "\n",
        "# Flow training images in batches from train_datagen generator\n",
        "train_generator = train_datagen.flow_from_directory(\n",
        "        train_dir,\n",
        "        target_size=(150, 150),\n",
        "        batch_size=20,\n",
        "        class_mode='binary')\n",
        "\n",
        "# Flow validation images in batches from test_datagen generator\n",
        "validation_generator = test_datagen.flow_from_directory(\n",
        "        validation_dir,\n",
        "        target_size=(150, 150),\n",
        "        batch_size=20,\n",
        "        class_mode='binary')"
      ],
      "execution_count": null,
      "outputs": []
    }
  ]
}