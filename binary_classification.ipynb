{
  "nbformat": 4,
  "nbformat_minor": 0,
  "metadata": {
    "colab": {
      "name": "binary_classification.ipynb",
      "private_outputs": true,
      "provenance": [],
      "authorship_tag": "ABX9TyPN6KLI94PcEGowAAcMX/nz",
      "include_colab_link": true
    },
    "kernelspec": {
      "name": "python3",
      "display_name": "Python 3"
    },
    "accelerator": "GPU"
  },
  "cells": [
    {
      "cell_type": "markdown",
      "metadata": {
        "id": "view-in-github",
        "colab_type": "text"
      },
      "source": [
        "<a href=\"https://colab.research.google.com/github/apresland/tensorflow-convnets/blob/binary-classification/binary_classification.ipynb\" target=\"_parent\"><img src=\"https://colab.research.google.com/assets/colab-badge.svg\" alt=\"Open In Colab\"/></a>"
      ]
    },
    {
      "cell_type": "markdown",
      "metadata": {
        "id": "vQMgu6oiL7SD"
      },
      "source": [
        "# Binary classification "
      ]
    },
    {
      "cell_type": "markdown",
      "metadata": {
        "id": "rDES3jLrlYuH"
      },
      "source": [
        "## Overview\n",
        "A standard demonstration of binary image classifiction that employs data augmentation and dropout layers to improve accuracy. Data augmentation is a technique that increases the diversity of your training data by applying random (but realistic) transformations such as image rotation."
      ]
    },
    {
      "cell_type": "markdown",
      "metadata": {
        "id": "7yEn6_qFF7o_"
      },
      "source": [
        "## Setup"
      ]
    },
    {
      "cell_type": "code",
      "metadata": {
        "id": "BiVe4l8UDz5L"
      },
      "source": [
        "import numpy as np\n",
        "import tensorflow as tf\n",
        "import tensorflow_datasets as tfds"
      ],
      "execution_count": null,
      "outputs": []
    },
    {
      "cell_type": "markdown",
      "metadata": {
        "id": "VdHNXyyWIJVQ"
      },
      "source": [
        "### Download the dataset\n",
        "This tutorial uses the dogs_vs_cats dataset downloaded from TensorFlow Datasets\n",
        "for convenience."
      ]
    },
    {
      "cell_type": "code",
      "metadata": {
        "id": "_DcRrcrPIJq6"
      },
      "source": [
        "(ds, info) = tfds.load('cats_vs_dogs', with_info=True, as_supervised=True,)\n",
        "\n",
        "num_classes = info.features['label'].num_classes\n",
        "print(num_classes)"
      ],
      "execution_count": null,
      "outputs": []
    }
  ]
}